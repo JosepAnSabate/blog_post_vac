{
 "cells": [
  {
   "cell_type": "markdown",
   "id": "b6be7609",
   "metadata": {},
   "source": [
    "Donades les [dades de la conselleria de Salut](https://analisi.transparenciacatalunya.cat/Salut/Vacunaci-per-al-COVID-19-dosis-administrades-per-r/tp23-dey4) del 1 d'agost del 2021 sobre vacunacions calcula:"
   ]
  },
  {
   "cell_type": "markdown",
   "id": "13306571",
   "metadata": {},
   "source": [
    "- **1.** Quantes persones s'an vacunat amb la primera vacuna? I amb la segona? I quantes persones han demanat cita i no han assistit?\n",
    "- **2.** Mostra un gràfic que mostri la població vacunada per edats amb primera i segona dosi.\n",
    "- **3.** Mostra el gràfic anterior mostrant els percentatges de grups utilitzant les [dades de l'1 de gener de 2021 sobre població per edats de l'IDESCAT](https://analisi.transparenciacatalunya.cat/Salut/Vacunaci-per-al-COVID-19-dosis-administrades-per-r/tp23-dey4) .\n",
    "- **4.** Mostra un gràfic amb el número de vacunes administrades segons cada fabricant.\n",
    "- **5.** Mostra un gràfic on es superposi la suma dels vacunats amb pauta complta acumulada amb el número de vacunes administrades diàriament."
   ]
  },
  {
   "cell_type": "code",
   "execution_count": 1,
   "id": "e941ae19",
   "metadata": {},
   "outputs": [],
   "source": [
    "import pandas as pd\n",
    "import matplotlib.pyplot as plt\n",
    "import numpy as np\n",
    "import matplotlib\n",
    "from datetime import datetime\n",
    "\n",
    "%matplotlib inline "
   ]
  },
  {
   "cell_type": "markdown",
   "id": "ea914143",
   "metadata": {},
   "source": [
    "### Import CSV from local "
   ]
  },
  {
   "cell_type": "code",
   "execution_count": 2,
   "id": "07da1da5",
   "metadata": {},
   "outputs": [],
   "source": [
    "# handlig dates\n",
    "dateparse = lambda x: datetime.strptime(x, '%d/%m/%Y')"
   ]
  },
  {
   "cell_type": "code",
   "execution_count": null,
   "id": "e2f61080",
   "metadata": {
    "scrolled": true
   },
   "outputs": [],
   "source": [
    "# Import CSV from local \n",
    "vac_csv = f\"C:/capes_sql/post_covid/vacunacio.csv\"\n",
    "vac_df = pd.read_csv(vac_csv, sep=',',parse_dates=['DATA'], date_parser=dateparse)\n",
    "vac_df.head(2)"
   ]
  },
  {
   "cell_type": "markdown",
   "id": "353e93d0",
   "metadata": {},
   "source": [
    "### **1.** Quantes persones s'han vacunat amb la primera vacuna? I amb la segona? I quantes persones han demanat cita i no han assistit?"
   ]
  },
  {
   "cell_type": "markdown",
   "id": "5008348d",
   "metadata": {},
   "source": [
    "In this dataset the people with unfavorable medical indications for vaccination are registered as NO_VACUNAT"
   ]
  },
  {
   "cell_type": "code",
   "execution_count": null,
   "id": "ccc4ffcf",
   "metadata": {
    "scrolled": false
   },
   "outputs": [],
   "source": [
    "# people non vaccinated\n",
    "vac_by_prod = vac_df.groupby([\"NO_VACUNAT\"])[[\"RECOMPTE\"]].sum() \n",
    "vac_by_prod.head()"
   ]
  },
  {
   "cell_type": "code",
   "execution_count": null,
   "id": "12685342",
   "metadata": {},
   "outputs": [],
   "source": [
    "# drop Non vaccinated people rows by condition\n",
    "vac_df = vac_df[vac_df['NO_VACUNAT'] != \"No vacunat\"]"
   ]
  },
  {
   "cell_type": "code",
   "execution_count": null,
   "id": "48e42f59",
   "metadata": {},
   "outputs": [],
   "source": [
    "# sum \"RECOMPTE\" by first dose \"DOSI\"\n",
    "vac_df.query(\"DOSI == 1\")['RECOMPTE'].sum()"
   ]
  },
  {
   "cell_type": "code",
   "execution_count": null,
   "id": "636fac32",
   "metadata": {},
   "outputs": [],
   "source": [
    "# sum \"RECOMPTE\" by second dose \"DOSI\"\n",
    "vac_df.query(\"DOSI == 2\")['RECOMPTE'].sum()"
   ]
  },
  {
   "cell_type": "markdown",
   "id": "73bf96e8",
   "metadata": {},
   "source": [
    "### **2.** Mostra un gràfic que mostri la població vacunada per edats amb primera i segona dosi."
   ]
  },
  {
   "cell_type": "code",
   "execution_count": null,
   "id": "66962684",
   "metadata": {},
   "outputs": [],
   "source": [
    "# Select rows with first dose\n",
    "vac_first_dose = vac_df[vac_df.DOSI == 1]\n",
    "#group by age and sum RECOMPTE\n",
    "vac_first_dose_by_age = vac_first_dose.groupby([\"EDAT\"])[[\"RECOMPTE\"]].sum()\n",
    "# Rename RECOMPTE column to DOSIU\n",
    "vac_first_dose_by_age.rename(columns = {'RECOMPTE':'DOSI_U'}, inplace = True)\n",
    "\n",
    "# Select rows with second dose\n",
    "vac_second_dose = vac_df[vac_df.DOSI == 2]\n",
    "# Group by age and sum RECOMPTE\n",
    "vac_second_dose_by_age = vac_second_dose.groupby([\"EDAT\"])[[\"RECOMPTE\"]].sum()\n",
    "# Rename RECOMPTE column to DOSIDOS\n",
    "vac_second_dose_by_age.rename(columns = {'RECOMPTE':'DOSI_DOS'}, inplace = True)"
   ]
  },
  {
   "cell_type": "code",
   "execution_count": null,
   "id": "f81ee28b",
   "metadata": {},
   "outputs": [],
   "source": [
    "vac_second_dose_by_age.head()"
   ]
  },
  {
   "cell_type": "code",
   "execution_count": null,
   "id": "3c20a51d",
   "metadata": {
    "scrolled": true
   },
   "outputs": [],
   "source": [
    "# merge the two dataframe\n",
    "vac_by_age_m = pd.merge(vac_first_dose_by_age, vac_second_dose_by_age, on='EDAT')\n",
    "vac_by_age_m"
   ]
  },
  {
   "cell_type": "code",
   "execution_count": null,
   "id": "fce51e6c",
   "metadata": {},
   "outputs": [],
   "source": [
    "# plot the df\n",
    "fig, ax = plt.subplots(figsize=(15, 7))\n",
    "\n",
    "labels = vac_by_age_m.index #labels x-axis \n",
    "\n",
    "x = np.arange(len(labels))  # the label locations\n",
    "width = 0.35  # the width of the bars\n",
    "\n",
    "d1 = ax.bar(x - width/2 - 0.04, #bars position\n",
    "            vac_by_age_m.DOSI_U, \n",
    "            width,\n",
    "            label='First dose', \n",
    "            color=\"#00cc66\")\n",
    "\n",
    "d2 = ax.bar(x + width/2, vac_by_age_m.DOSI_DOS, width, label='Second dose')\n",
    "\n",
    "ax.set_xticks(x)\n",
    "ax.set_xticklabels(labels) # custom labels x-axis\n",
    "\n",
    "ax.bar_label(d1, #d1 = bar container\n",
    "             labels= vac_by_age_m.DOSI_U//1000, # // int division\n",
    "             padding=2, fontsize=12)\n",
    "ax.bar_label(d2, labels= vac_by_age_m.DOSI_DOS//1000, padding=2, fontsize=12)\n",
    "\n",
    "ax.get_yaxis().set_major_formatter(\n",
    "matplotlib.ticker.FuncFormatter(lambda x, p: format(int(x), ',')))\n",
    "\n",
    "plt.title(\"Number of vaccines administrated grouped by age\",  fontsize=20)\n",
    "plt.xticks(rotation=45, fontsize=14) # rotation axis tags\n",
    "plt.yticks(fontsize=14)\n",
    "plt.legend(loc='upper left', fontsize=14)\n",
    "\n",
    "plt.show()"
   ]
  },
  {
   "cell_type": "markdown",
   "id": "cc2c5dd1",
   "metadata": {},
   "source": [
    "### 3. Mostra el gràfic anterior mostrant els percentatges de grup utilitzant les [dades de l'1 de gener de 2021 sobre població per edats de l'IDESCAT](https://analisi.transparenciacatalunya.cat/Salut/Vacunaci-per-al-COVID-19-dosis-administrades-per-r/tp23-dey4) ."
   ]
  },
  {
   "cell_type": "code",
   "execution_count": null,
   "id": "ce37591f",
   "metadata": {
    "scrolled": true
   },
   "outputs": [],
   "source": [
    "pop_by_age = [1157226, 411266, 402872, 434341, 461705, 522779, 643156, 649531, 581232,\n",
    "              521531, 459344, 389980, 352045, 279754, 449998]\n",
    "df_pop = pd.DataFrame(pop_by_age)\n"
   ]
  },
  {
   "cell_type": "code",
   "execution_count": null,
   "id": "d978d316",
   "metadata": {
    "scrolled": false
   },
   "outputs": [],
   "source": [
    "vac_by_age_m = vac_by_age_m.drop(['No classificat'], axis=0) # remove values non classified\n",
    "vac_by_age_m.index.name = None #remove tag axis\n",
    "vac_by_age_m['POP'] = pop_by_age  # add list as column"
   ]
  },
  {
   "cell_type": "code",
   "execution_count": null,
   "id": "f40dd829",
   "metadata": {
    "scrolled": true
   },
   "outputs": [],
   "source": [
    "# % first dose\n",
    "vac_by_age_m['XDOSI_U'] =  vac_by_age_m['DOSI_U'] / vac_by_age_m['POP'] * 100\n",
    "# % second dose\n",
    "vac_by_age_m['XDOSI_D'] =  vac_by_age_m['DOSI_DOS'] / vac_by_age_m['POP'] * 100"
   ]
  },
  {
   "cell_type": "code",
   "execution_count": null,
   "id": "eb85486f",
   "metadata": {
    "scrolled": false
   },
   "outputs": [],
   "source": [
    "vac_by_age_m"
   ]
  },
  {
   "cell_type": "code",
   "execution_count": null,
   "id": "fa20a31b",
   "metadata": {},
   "outputs": [],
   "source": [
    "# plot the df\n",
    "fig, ax = plt.subplots(figsize=(17, 7))\n",
    "\n",
    "labels = vac_by_age_m.index #labels x-axis \n",
    "\n",
    "x = np.arange(len(labels))  # the label locations\n",
    "width = 0.35  # the width of the bars\n",
    "\n",
    "d1 = ax.bar(x - width/2 - 0.04, #bars position\n",
    "            vac_by_age_m.XDOSI_U, \n",
    "            width,\n",
    "            label='First dose', \n",
    "            color=\"#00cc66\")\n",
    "\n",
    "d2 = ax.bar(x + width/2, vac_by_age_m.XDOSI_D, width, label='Second dose')\n",
    "\n",
    "ax.set_xticks(x)\n",
    "ax.set_xticklabels(labels) # custom labels x-axis\n",
    "\n",
    "# bar labels\n",
    "vac_round = vac_by_age_m.round(1)\n",
    "ax.bar_label(d1, labels= vac_round.XDOSI_U, padding=2, fontsize=12)\n",
    "ax.bar_label(d2, labels= vac_round.XDOSI_D, padding=2, fontsize=12)\n",
    "\n",
    "\n",
    "plt.title(\"Percentage of vaccines administrated by group of age\",  fontsize=20)\n",
    "plt.xticks(rotation=45, fontsize=14) # rotation axis tags\n",
    "plt.yticks(fontsize=14)\n",
    "plt.legend(loc='upper left', fontsize=17)\n",
    "\n",
    "plt.show()"
   ]
  },
  {
   "cell_type": "markdown",
   "id": "1d67f1b3",
   "metadata": {},
   "source": [
    "# **4.** Mostra un gràfic amb el número de vacunes administrades segons cada fabricant."
   ]
  },
  {
   "cell_type": "code",
   "execution_count": null,
   "id": "98723b7e",
   "metadata": {},
   "outputs": [],
   "source": [
    "#group by FABRICANT and sum RECOMPTE\n",
    "vac_by_prod = vac_df.groupby([\"FABRICANT\"])[[\"RECOMPTE\"]].sum()\n",
    "vac_by_prod.head()"
   ]
  },
  {
   "cell_type": "code",
   "execution_count": null,
   "id": "0d99d123",
   "metadata": {},
   "outputs": [],
   "source": [
    "explode = (0.01, 0, 0, 0)  # only \"explode\" the data\n",
    "\n",
    "# Creating color parameters\n",
    "colors = ( \"orange\", \"cyan\", \"brown\",\"magenta\")\n",
    "\n",
    "fig1, ax1 = plt.subplots(figsize=(10,7))\n",
    "\n",
    "ax1.pie(vac_by_prod.RECOMPTE, \n",
    "        explode=explode, \n",
    "        labels=vac_by_prod.index,  \n",
    "        autopct='%1.1f%%' ,\n",
    "        shadow=True, \n",
    "        startangle=120,\n",
    "       colors=colors,\n",
    "       textprops = dict(color =\"black\", fontsize=17, family='sans-serif'))\n",
    "\n",
    "ax1.axis('equal')  # Equal aspect ratio ensures that pie is drawn as a circle.\n",
    "\n",
    "plt.title(\"Vacunes administrades segons el fabricant\",  fontsize=24,  y=1.08) # y avoid overlaps\n",
    "plt.xticks(fontsize=14)\n",
    "\n",
    "\n",
    "plt.tight_layout()\n",
    "plt.show()"
   ]
  },
  {
   "cell_type": "markdown",
   "id": "a5eeebd1",
   "metadata": {},
   "source": [
    "## 5. Mostra un gràfic on es superposi la suma dels vacunats amb pauta complta acumulada amb el número de vacunes administrades diàriament.\n"
   ]
  },
  {
   "cell_type": "code",
   "execution_count": null,
   "id": "97beca1e",
   "metadata": {
    "scrolled": true
   },
   "outputs": [],
   "source": [
    " vac_df.head()"
   ]
  },
  {
   "cell_type": "code",
   "execution_count": null,
   "id": "0998a4af",
   "metadata": {},
   "outputs": [],
   "source": [
    "# selection DOSI 1 \n",
    "# Select rows with first dose\n",
    "vac_first_dose = vac_df[vac_df.DOSI == 1]\n",
    "#group by DATA and sum RECOMPTE\n",
    "vac_first_dose_by_date = vac_first_dose.groupby([\"DATA\"])[[\"RECOMPTE\"]].sum()\n",
    "\n",
    "# selection DOSI 2\n",
    "# Select rows with second dose\n",
    "vac_second_dose = vac_df[vac_df.DOSI == 2]\n",
    "#group by DATA and sum RECOMPTE\n",
    "vac_second_dose_by_date = vac_second_dose.groupby([\"DATA\"])[[\"RECOMPTE\"]].sum()"
   ]
  },
  {
   "cell_type": "code",
   "execution_count": null,
   "id": "07a33417",
   "metadata": {},
   "outputs": [],
   "source": [
    "# Rename each column - appending “insitu”\n",
    "vac_second_dose_by_date.rename(columns={\"RECOMPTE\": \"REC_DOS\"},\n",
    "                      inplace=True)  # Modify the dataframe columns\n",
    "\n",
    "vac_second_dose_by_date.tail()"
   ]
  },
  {
   "cell_type": "code",
   "execution_count": null,
   "id": "889e7026",
   "metadata": {},
   "outputs": [],
   "source": [
    "#remove index axis tag\n",
    "vac_first_dose_by_date.index.name = None \n",
    "vac_second_dose_by_date.index.name = None"
   ]
  },
  {
   "cell_type": "code",
   "execution_count": null,
   "id": "10416445",
   "metadata": {
    "scrolled": true
   },
   "outputs": [],
   "source": [
    "vac_first_dose_by_date.tail()"
   ]
  },
  {
   "cell_type": "code",
   "execution_count": null,
   "id": "4ec3f9a1",
   "metadata": {},
   "outputs": [],
   "source": [
    "# Joining on index \n",
    "df_vac_app =vac_first_dose_by_date.join(vac_second_dose_by_date, how=\"outer\")\n",
    "df_vac_app"
   ]
  },
  {
   "cell_type": "code",
   "execution_count": null,
   "id": "754be50c",
   "metadata": {},
   "outputs": [],
   "source": [
    "df_vac_app = df_vac_app.fillna(0) # fill the null values as 0"
   ]
  },
  {
   "cell_type": "code",
   "execution_count": null,
   "id": "405133a2",
   "metadata": {},
   "outputs": [],
   "source": [
    "# cummulative sum second dose\n",
    "vac_second_dose_by_date[\"cumsum2\"] = vac_second_dose_by_date['REC_DOS'].cumsum()\n",
    "\n",
    "# cummulative sum second dose\n",
    "vac_first_dose_by_date[\"cumsum\"] = vac_first_dose_by_date['RECOMPTE'].cumsum()"
   ]
  },
  {
   "cell_type": "code",
   "execution_count": null,
   "id": "ad9460af",
   "metadata": {},
   "outputs": [],
   "source": [
    "df_vac_app"
   ]
  },
  {
   "cell_type": "code",
   "execution_count": null,
   "id": "af246944",
   "metadata": {},
   "outputs": [],
   "source": [
    "# Plot your data\n",
    "fig, ax = plt.subplots(figsize=(13,7))\n",
    "\n",
    "width_col = 0.6\n",
    "labels = df_vac_app.index\n",
    "    \n",
    "ax.bar(labels, df_vac_app.RECOMPTE, width_col, label='Primera dosi', color='#009933') # first dose\n",
    "ax.bar(labels, df_vac_app.REC_DOS, width_col, \n",
    "       bottom=df_vac_app[\"RECOMPTE\"],\n",
    "       label='Segona dosi', \n",
    "     color='#0000cc')\n",
    "\n",
    "\n",
    "ax.set_ylabel('Númro de vacunes administrades diàriament')\n",
    "ax.set_title('Scores by group and gender')\n",
    "ax.legend()"
   ]
  },
  {
   "cell_type": "code",
   "execution_count": null,
   "id": "324028b0",
   "metadata": {
    "scrolled": true
   },
   "outputs": [],
   "source": [
    "# Plot your data\n",
    "fig, ax = plt.subplots(figsize=(11,7))\n",
    "vac_second_dose_by_date[\"cumsum2\"].plot(ax=ax, label = \"Cumulative Completed Vaccination\")\n",
    "\n",
    "# Make the y-axis label, ticks and tick labels match the line color.\n",
    "ax.set_ylabel('Número de persones vacunades \\n amb dos dosis', fontsize=18,  color='b')\n",
    "\n",
    "\n",
    "\n",
    "# Turn off scientific notation\n",
    "#ax.ticklabel_format(style='plain')"
   ]
  },
  {
   "cell_type": "code",
   "execution_count": null,
   "id": "b6c27720",
   "metadata": {},
   "outputs": [],
   "source": []
  }
 ],
 "metadata": {
  "kernelspec": {
   "display_name": "Python 3",
   "language": "python",
   "name": "python3"
  },
  "language_info": {
   "codemirror_mode": {
    "name": "ipython",
    "version": 3
   },
   "file_extension": ".py",
   "mimetype": "text/x-python",
   "name": "python",
   "nbconvert_exporter": "python",
   "pygments_lexer": "ipython3",
   "version": "3.9.4"
  }
 },
 "nbformat": 4,
 "nbformat_minor": 5
}
