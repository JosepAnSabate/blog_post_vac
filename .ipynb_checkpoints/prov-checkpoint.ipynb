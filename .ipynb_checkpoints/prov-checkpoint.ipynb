{
 "cells": [
  {
   "cell_type": "code",
   "execution_count": 1,
   "id": "71a96aa4",
   "metadata": {},
   "outputs": [],
   "source": [
    "import pandas as pd\n",
    "import matplotlib.pyplot as plt\n",
    "import numpy as np\n",
    "import matplotlib\n",
    "from datetime import datetime\n",
    "\n",
    "%matplotlib inline "
   ]
  },
  {
   "cell_type": "code",
   "execution_count": 2,
   "id": "1e1846be",
   "metadata": {},
   "outputs": [],
   "source": [
    "# handlig dates\n",
    "dateparse = lambda x: datetime.strptime(x, '%d/%m/%Y')"
   ]
  },
  {
   "cell_type": "code",
   "execution_count": null,
   "id": "9f17b9a4",
   "metadata": {
    "scrolled": true
   },
   "outputs": [],
   "source": [
    "# Import CSV from local \n",
    "vac_csv = f\"C:/capes_sql/post_covid/vacunacio.csv\"\n",
    "vac_df = pd.read_csv(vac_csv, sep=',',parse_dates=['DATA'], date_parser=dateparse)\n",
    "vac_df.head(2)"
   ]
  },
  {
   "cell_type": "code",
   "execution_count": null,
   "id": "297600b2",
   "metadata": {},
   "outputs": [],
   "source": [
    "# selection DOSI 1 \n",
    "# Select rows with first dose\n",
    "vac_first_dose = vac_df[vac_df.DOSI == 1]\n",
    "#group by DATA and sum RECOMPTE\n",
    "vac_first_dose_by_date = vac_first_dose.groupby([\"DATA\"])[[\"RECOMPTE\"]].sum()\n",
    "\n",
    "# selection DOSI 2\n",
    "# Select rows with second dose\n",
    "vac_second_dose = vac_df[vac_df.DOSI == 2]\n",
    "#group by DATA and sum RECOMPTE\n",
    "vac_second_dose_by_date = vac_second_dose.groupby([\"DATA\"])[[\"RECOMPTE\"]].sum()"
   ]
  },
  {
   "cell_type": "code",
   "execution_count": null,
   "id": "6e7a8e62",
   "metadata": {},
   "outputs": [],
   "source": [
    "# Rename each column - appending “insitu”\n",
    "vac_second_dose_by_date.rename(columns={\"RECOMPTE\": \"REC_DOS\"},\n",
    "                      inplace=True)  # Modify the dataframe columns\n",
    "\n",
    "vac_second_dose_by_date.tail()"
   ]
  },
  {
   "cell_type": "code",
   "execution_count": null,
   "id": "1bcb38c8",
   "metadata": {},
   "outputs": [],
   "source": [
    "#remove index axis tag\n",
    "vac_first_dose_by_date.index.name = None \n",
    "vac_second_dose_by_date.index.name = None"
   ]
  },
  {
   "cell_type": "code",
   "execution_count": null,
   "id": "843c041f",
   "metadata": {
    "scrolled": true
   },
   "outputs": [],
   "source": [
    "vac_first_dose_by_date.tail()"
   ]
  },
  {
   "cell_type": "code",
   "execution_count": null,
   "id": "32220777",
   "metadata": {},
   "outputs": [],
   "source": [
    "# Joining on index \n",
    "df_vac_app =vac_first_dose_by_date.join(vac_second_dose_by_date, how=\"outer\")\n",
    "df_vac_app"
   ]
  },
  {
   "cell_type": "code",
   "execution_count": null,
   "id": "56b41602",
   "metadata": {},
   "outputs": [],
   "source": [
    "df_vac_app = df_vac_app.fillna(0) # fill the null values as 0"
   ]
  },
  {
   "cell_type": "code",
   "execution_count": null,
   "id": "92f35eb7",
   "metadata": {},
   "outputs": [],
   "source": [
    "# cummulative sum second dose\n",
    "df_vac_app[\"cumsum2\"] = df_vac_app['REC_DOS'].cumsum()\n",
    "\n",
    "# cummulative sum second dose\n",
    "df_vac_app[\"cumsum\"] = df_vac_app['RECOMPTE'].cumsum()"
   ]
  },
  {
   "cell_type": "code",
   "execution_count": null,
   "id": "e1155242",
   "metadata": {},
   "outputs": [],
   "source": [
    "df_vac_app "
   ]
  },
  {
   "cell_type": "code",
   "execution_count": null,
   "id": "468d5d62",
   "metadata": {},
   "outputs": [],
   "source": [
    "# Plot your data\n",
    "fig, ax = plt.subplots(figsize=(11,7))\n",
    "\n",
    "width_col = 0.6\n",
    "labels = df_vac_app.index\n",
    "    \n",
    "ax.bar(labels, df_vac_app.RECOMPTE, width_col, label='Primera dosi', color='#009933') # first dose\n",
    "ax.bar(labels, df_vac_app.REC_DOS, width_col, \n",
    "       bottom=df_vac_app[\"RECOMPTE\"],\n",
    "       label='Segona dosi', \n",
    "     color='#0000cc')\n",
    "\n",
    "\n",
    "ax.set_ylabel('Númro de vacunes administrades diàriament')\n",
    "ax.set_title('Scores by group and gender')\n",
    "ax.legend()"
   ]
  },
  {
   "cell_type": "code",
   "execution_count": null,
   "id": "273fefef",
   "metadata": {},
   "outputs": [],
   "source": [
    "# Plot your data\n",
    "fig, ax = plt.subplots(figsize=(15,9))\n",
    "\n",
    "#cummul\n",
    "vac_second_dose_by_date[\"cumsum2\"].plot(ax=ax, label = \"Cumulative Completed Vaccination\", linewidth=5, color='#e60073')\n",
    "\n",
    "# Make the y-axis label, ticks and tick labels match the line color.\n",
    "ax.set_ylabel('Número de persones vacunades \\n amb dos dosis', fontsize=18,  color='b')\n",
    "#ax.tick_params('y', colors='b') # y axis color\n",
    "\n",
    "ax2 = ax.twinx() # Create a new Axes with an invisible x-axis and an independent y-axis positioned opposite to the original\n",
    "\n",
    "ax2.bar(labels, df_vac_app.RECOMPTE, width_col, label='Primera dosi', color='#009933') # first dose\n",
    "ax2.bar(labels, df_vac_app.REC_DOS, width_col, bottom=df_vac_app[\"RECOMPTE\"], label='Segona dosi', color='#0000cc')\n",
    "\n",
    "# Turn off scientific notation\n",
    "#ax.ticklabel_format(style='plain')"
   ]
  },
  {
   "cell_type": "code",
   "execution_count": null,
   "id": "de36aef4",
   "metadata": {},
   "outputs": [],
   "source": []
  }
 ],
 "metadata": {
  "kernelspec": {
   "display_name": "Python 3",
   "language": "python",
   "name": "python3"
  },
  "language_info": {
   "codemirror_mode": {
    "name": "ipython",
    "version": 3
   },
   "file_extension": ".py",
   "mimetype": "text/x-python",
   "name": "python",
   "nbconvert_exporter": "python",
   "pygments_lexer": "ipython3",
   "version": "3.9.4"
  }
 },
 "nbformat": 4,
 "nbformat_minor": 5
}
