{
 "cells": [
  {
   "cell_type": "markdown",
   "id": "b6be7609",
   "metadata": {},
   "source": [
    "Donades les [dades de la conselleria de Salut](https://analisi.transparenciacatalunya.cat/Salut/Vacunaci-per-al-COVID-19-dosis-administrades-per-r/tp23-dey4) del 1 d'agost del 2021 sobre vacunacions calcula:"
   ]
  },
  {
   "cell_type": "markdown",
   "id": "13306571",
   "metadata": {},
   "source": [
    "- **1.** Quantes persones s'an vacunat amb la primera vacuna? I amb la segona? I quantes persones han demanat cita i no han assistit?\n",
    "- **2.** Mostra un gràfic que mostri la població vacunada per edats amb primera i segona dosi.\n",
    "- **3.** Mostra el gràfic anterior mostrant els percentatges de grups utilitzant les [dades de l'1 de gener de 2021 sobre població per edats de l'IDESCAT](https://analisi.transparenciacatalunya.cat/Salut/Vacunaci-per-al-COVID-19-dosis-administrades-per-r/tp23-dey4) .\n",
    "- **4.** Mostra un gràfic amb el número de vacunes administrades segons cada fabricant.\n",
    "- **5.** Mostra un gràfic on es superposi la suma dels vacunats amb pauta complta acumulada amb el número de vacunes administrades diàriament."
   ]
  },
  {
   "cell_type": "code",
   "execution_count": 1,
   "id": "e941ae19",
   "metadata": {},
   "outputs": [],
   "source": [
    "import pandas as pd\n",
    "import matplotlib.pyplot as plt\n",
    "import numpy as np\n",
    "import matplotlib\n",
    "from datetime import datetime\n",
    "\n",
    "%matplotlib inline "
   ]
  },
  {
   "cell_type": "markdown",
   "id": "ea914143",
   "metadata": {},
   "source": [
    "### Import CSV from local "
   ]
  },
  {
   "cell_type": "code",
   "execution_count": 2,
   "id": "07da1da5",
   "metadata": {},
   "outputs": [],
   "source": [
    "# handlig dates\n",
    "dateparse = lambda x: datetime.strptime(x, '%d/%m/%Y')"
   ]
  },
  {
   "cell_type": "code",
   "execution_count": 3,
   "id": "e2f61080",
   "metadata": {
    "scrolled": true
   },
   "outputs": [
    {
     "data": {
      "text/html": [
       "<div>\n",
       "<style scoped>\n",
       "    .dataframe tbody tr th:only-of-type {\n",
       "        vertical-align: middle;\n",
       "    }\n",
       "\n",
       "    .dataframe tbody tr th {\n",
       "        vertical-align: top;\n",
       "    }\n",
       "\n",
       "    .dataframe thead th {\n",
       "        text-align: right;\n",
       "    }\n",
       "</style>\n",
       "<table border=\"1\" class=\"dataframe\">\n",
       "  <thead>\n",
       "    <tr style=\"text-align: right;\">\n",
       "      <th></th>\n",
       "      <th>SEXE_CODI</th>\n",
       "      <th>SEXE</th>\n",
       "      <th>REGIO_CODI</th>\n",
       "      <th>REGIO</th>\n",
       "      <th>SECTOR_CODI</th>\n",
       "      <th>SECTOR</th>\n",
       "      <th>AGA_CODI</th>\n",
       "      <th>AGA</th>\n",
       "      <th>ABS_CODI</th>\n",
       "      <th>ABS</th>\n",
       "      <th>EDAT</th>\n",
       "      <th>DOSI</th>\n",
       "      <th>DATA</th>\n",
       "      <th>FABRICANT</th>\n",
       "      <th>NO_VACUNAT</th>\n",
       "      <th>RECOMPTE</th>\n",
       "    </tr>\n",
       "  </thead>\n",
       "  <tbody>\n",
       "    <tr>\n",
       "      <th>0</th>\n",
       "      <td>0.0</td>\n",
       "      <td>Home</td>\n",
       "      <td>7803.0</td>\n",
       "      <td>BARCELONA CIUTAT</td>\n",
       "      <td>7851.0</td>\n",
       "      <td>BARCELONA EIXAMPLE</td>\n",
       "      <td>70.0</td>\n",
       "      <td>Barcelona Dreta</td>\n",
       "      <td>28.0</td>\n",
       "      <td>BARCELONA 2-H</td>\n",
       "      <td>75 a 79</td>\n",
       "      <td>1</td>\n",
       "      <td>2021-03-24</td>\n",
       "      <td>Moderna / Lonza</td>\n",
       "      <td>NaN</td>\n",
       "      <td>2</td>\n",
       "    </tr>\n",
       "    <tr>\n",
       "      <th>1</th>\n",
       "      <td>1.0</td>\n",
       "      <td>Dona</td>\n",
       "      <td>7802.0</td>\n",
       "      <td>METROPOLITANA NORD</td>\n",
       "      <td>7867.0</td>\n",
       "      <td>BARCELONÈS NORD I MARESME</td>\n",
       "      <td>33.0</td>\n",
       "      <td>Maresme Central</td>\n",
       "      <td>154.0</td>\n",
       "      <td>MATARÓ 3</td>\n",
       "      <td>50 a 54</td>\n",
       "      <td>2</td>\n",
       "      <td>2021-04-22</td>\n",
       "      <td>BioNTech / Pfizer</td>\n",
       "      <td>NaN</td>\n",
       "      <td>1</td>\n",
       "    </tr>\n",
       "  </tbody>\n",
       "</table>\n",
       "</div>"
      ],
      "text/plain": [
       "   SEXE_CODI  SEXE  REGIO_CODI               REGIO  SECTOR_CODI  \\\n",
       "0        0.0  Home      7803.0    BARCELONA CIUTAT       7851.0   \n",
       "1        1.0  Dona      7802.0  METROPOLITANA NORD       7867.0   \n",
       "\n",
       "                      SECTOR  AGA_CODI              AGA  ABS_CODI  \\\n",
       "0         BARCELONA EIXAMPLE      70.0  Barcelona Dreta      28.0   \n",
       "1  BARCELONÈS NORD I MARESME      33.0  Maresme Central     154.0   \n",
       "\n",
       "             ABS     EDAT  DOSI       DATA          FABRICANT NO_VACUNAT  \\\n",
       "0  BARCELONA 2-H  75 a 79     1 2021-03-24    Moderna / Lonza        NaN   \n",
       "1       MATARÓ 3  50 a 54     2 2021-04-22  BioNTech / Pfizer        NaN   \n",
       "\n",
       "   RECOMPTE  \n",
       "0         2  \n",
       "1         1  "
      ]
     },
     "execution_count": 3,
     "metadata": {},
     "output_type": "execute_result"
    }
   ],
   "source": [
    "# Import CSV from local \n",
    "vac_csv = f\"C:/capes_sql/post_covid/vacunacio.csv\"\n",
    "vac_df = pd.read_csv(vac_csv, sep=',',parse_dates=['DATA'], date_parser=dateparse)\n",
    "vac_df.head(2)"
   ]
  },
  {
   "cell_type": "markdown",
   "id": "353e93d0",
   "metadata": {},
   "source": [
    "### **1.** Quantes persones s'han vacunat amb la primera vacuna? I amb la segona? I quantes persones han demanat cita i no han assistit?"
   ]
  },
  {
   "cell_type": "markdown",
   "id": "5008348d",
   "metadata": {},
   "source": [
    "In this dataset the people with unfavorable medical indications for vaccination are registered as NO_VACUNAT"
   ]
  },
  {
   "cell_type": "code",
   "execution_count": 4,
   "id": "ccc4ffcf",
   "metadata": {
    "scrolled": false
   },
   "outputs": [
    {
     "data": {
      "text/html": [
       "<div>\n",
       "<style scoped>\n",
       "    .dataframe tbody tr th:only-of-type {\n",
       "        vertical-align: middle;\n",
       "    }\n",
       "\n",
       "    .dataframe tbody tr th {\n",
       "        vertical-align: top;\n",
       "    }\n",
       "\n",
       "    .dataframe thead th {\n",
       "        text-align: right;\n",
       "    }\n",
       "</style>\n",
       "<table border=\"1\" class=\"dataframe\">\n",
       "  <thead>\n",
       "    <tr style=\"text-align: right;\">\n",
       "      <th></th>\n",
       "      <th>RECOMPTE</th>\n",
       "    </tr>\n",
       "    <tr>\n",
       "      <th>NO_VACUNAT</th>\n",
       "      <th></th>\n",
       "    </tr>\n",
       "  </thead>\n",
       "  <tbody>\n",
       "    <tr>\n",
       "      <th>No vacunat</th>\n",
       "      <td>90954</td>\n",
       "    </tr>\n",
       "  </tbody>\n",
       "</table>\n",
       "</div>"
      ],
      "text/plain": [
       "            RECOMPTE\n",
       "NO_VACUNAT          \n",
       "No vacunat     90954"
      ]
     },
     "execution_count": 4,
     "metadata": {},
     "output_type": "execute_result"
    }
   ],
   "source": [
    "# people non vaccinated\n",
    "vac_by_prod = vac_df.groupby([\"NO_VACUNAT\"])[[\"RECOMPTE\"]].sum() \n",
    "vac_by_prod.head()"
   ]
  },
  {
   "cell_type": "code",
   "execution_count": 5,
   "id": "12685342",
   "metadata": {},
   "outputs": [],
   "source": [
    "# drop Non vaccinated people rows by condition\n",
    "vac_df = vac_df[vac_df['NO_VACUNAT'] != \"No vacunat\"]"
   ]
  },
  {
   "cell_type": "code",
   "execution_count": 6,
   "id": "48e42f59",
   "metadata": {},
   "outputs": [
    {
     "data": {
      "text/plain": [
       "5080329"
      ]
     },
     "execution_count": 6,
     "metadata": {},
     "output_type": "execute_result"
    }
   ],
   "source": [
    "# sum \"RECOMPTE\" by first dose \"DOSI\"\n",
    "vac_df.query(\"DOSI == 1\")['RECOMPTE'].sum()"
   ]
  },
  {
   "cell_type": "code",
   "execution_count": 7,
   "id": "636fac32",
   "metadata": {},
   "outputs": [
    {
     "data": {
      "text/plain": [
       "4041707"
      ]
     },
     "execution_count": 7,
     "metadata": {},
     "output_type": "execute_result"
    }
   ],
   "source": [
    "# sum \"RECOMPTE\" by second dose \"DOSI\"\n",
    "vac_df.query(\"DOSI == 2\")['RECOMPTE'].sum()"
   ]
  },
  {
   "cell_type": "markdown",
   "id": "73bf96e8",
   "metadata": {},
   "source": [
    "### **2.** Mostra un gràfic que mostri la població vacunada per edats amb primera i segona dosi."
   ]
  },
  {
   "cell_type": "code",
   "execution_count": 8,
   "id": "66962684",
   "metadata": {},
   "outputs": [],
   "source": [
    "# Select rows with first dose\n",
    "vac_first_dose = vac_df[vac_df.DOSI == 1]\n",
    "#group by age and sum RECOMPTE\n",
    "vac_first_dose_by_age = vac_first_dose.groupby([\"EDAT\"])[[\"RECOMPTE\"]].sum()\n",
    "# Rename RECOMPTE column to DOSIU\n",
    "vac_first_dose_by_age.rename(columns = {'RECOMPTE':'DOSI_U'}, inplace = True)\n",
    "\n",
    "# Select rows with second dose\n",
    "vac_second_dose = vac_df[vac_df.DOSI == 2]\n",
    "# Group by age and sum RECOMPTE\n",
    "vac_second_dose_by_age = vac_second_dose.groupby([\"EDAT\"])[[\"RECOMPTE\"]].sum()\n",
    "# Rename RECOMPTE column to DOSIDOS\n",
    "vac_second_dose_by_age.rename(columns = {'RECOMPTE':'DOSI_DOS'}, inplace = True)"
   ]
  },
  {
   "cell_type": "code",
   "execution_count": 9,
   "id": "f81ee28b",
   "metadata": {},
   "outputs": [
    {
     "data": {
      "text/html": [
       "<div>\n",
       "<style scoped>\n",
       "    .dataframe tbody tr th:only-of-type {\n",
       "        vertical-align: middle;\n",
       "    }\n",
       "\n",
       "    .dataframe tbody tr th {\n",
       "        vertical-align: top;\n",
       "    }\n",
       "\n",
       "    .dataframe thead th {\n",
       "        text-align: right;\n",
       "    }\n",
       "</style>\n",
       "<table border=\"1\" class=\"dataframe\">\n",
       "  <thead>\n",
       "    <tr style=\"text-align: right;\">\n",
       "      <th></th>\n",
       "      <th>DOSI_DOS</th>\n",
       "    </tr>\n",
       "    <tr>\n",
       "      <th>EDAT</th>\n",
       "      <th></th>\n",
       "    </tr>\n",
       "  </thead>\n",
       "  <tbody>\n",
       "    <tr>\n",
       "      <th>0 a 14</th>\n",
       "      <td>1212</td>\n",
       "    </tr>\n",
       "    <tr>\n",
       "      <th>15 a 19</th>\n",
       "      <td>43333</td>\n",
       "    </tr>\n",
       "    <tr>\n",
       "      <th>20 a 24</th>\n",
       "      <td>74639</td>\n",
       "    </tr>\n",
       "    <tr>\n",
       "      <th>25 a 29</th>\n",
       "      <td>87359</td>\n",
       "    </tr>\n",
       "    <tr>\n",
       "      <th>30 a 34</th>\n",
       "      <td>150647</td>\n",
       "    </tr>\n",
       "  </tbody>\n",
       "</table>\n",
       "</div>"
      ],
      "text/plain": [
       "         DOSI_DOS\n",
       "EDAT             \n",
       "0 a 14       1212\n",
       "15 a 19     43333\n",
       "20 a 24     74639\n",
       "25 a 29     87359\n",
       "30 a 34    150647"
      ]
     },
     "execution_count": 9,
     "metadata": {},
     "output_type": "execute_result"
    }
   ],
   "source": [
    "vac_second_dose_by_age.head()"
   ]
  },
  {
   "cell_type": "code",
   "execution_count": 10,
   "id": "3c20a51d",
   "metadata": {
    "scrolled": true
   },
   "outputs": [
    {
     "data": {
      "text/html": [
       "<div>\n",
       "<style scoped>\n",
       "    .dataframe tbody tr th:only-of-type {\n",
       "        vertical-align: middle;\n",
       "    }\n",
       "\n",
       "    .dataframe tbody tr th {\n",
       "        vertical-align: top;\n",
       "    }\n",
       "\n",
       "    .dataframe thead th {\n",
       "        text-align: right;\n",
       "    }\n",
       "</style>\n",
       "<table border=\"1\" class=\"dataframe\">\n",
       "  <thead>\n",
       "    <tr style=\"text-align: right;\">\n",
       "      <th></th>\n",
       "      <th>DOSI_U</th>\n",
       "      <th>DOSI_DOS</th>\n",
       "    </tr>\n",
       "    <tr>\n",
       "      <th>EDAT</th>\n",
       "      <th></th>\n",
       "      <th></th>\n",
       "    </tr>\n",
       "  </thead>\n",
       "  <tbody>\n",
       "    <tr>\n",
       "      <th>0 a 14</th>\n",
       "      <td>2041</td>\n",
       "      <td>1212</td>\n",
       "    </tr>\n",
       "    <tr>\n",
       "      <th>15 a 19</th>\n",
       "      <td>171022</td>\n",
       "      <td>43333</td>\n",
       "    </tr>\n",
       "    <tr>\n",
       "      <th>20 a 24</th>\n",
       "      <td>210261</td>\n",
       "      <td>74639</td>\n",
       "    </tr>\n",
       "    <tr>\n",
       "      <th>25 a 29</th>\n",
       "      <td>220901</td>\n",
       "      <td>87359</td>\n",
       "    </tr>\n",
       "    <tr>\n",
       "      <th>30 a 34</th>\n",
       "      <td>266027</td>\n",
       "      <td>150647</td>\n",
       "    </tr>\n",
       "    <tr>\n",
       "      <th>35 a 39</th>\n",
       "      <td>361092</td>\n",
       "      <td>273558</td>\n",
       "    </tr>\n",
       "    <tr>\n",
       "      <th>40 a 44</th>\n",
       "      <td>505947</td>\n",
       "      <td>384983</td>\n",
       "    </tr>\n",
       "    <tr>\n",
       "      <th>45 a 49</th>\n",
       "      <td>546923</td>\n",
       "      <td>456759</td>\n",
       "    </tr>\n",
       "    <tr>\n",
       "      <th>50 a 54</th>\n",
       "      <td>503853</td>\n",
       "      <td>446475</td>\n",
       "    </tr>\n",
       "    <tr>\n",
       "      <th>55 a 59</th>\n",
       "      <td>467702</td>\n",
       "      <td>423011</td>\n",
       "    </tr>\n",
       "    <tr>\n",
       "      <th>60 a 64</th>\n",
       "      <td>412814</td>\n",
       "      <td>360927</td>\n",
       "    </tr>\n",
       "    <tr>\n",
       "      <th>65 a 69</th>\n",
       "      <td>351443</td>\n",
       "      <td>327717</td>\n",
       "    </tr>\n",
       "    <tr>\n",
       "      <th>70 a 74</th>\n",
       "      <td>331499</td>\n",
       "      <td>304580</td>\n",
       "    </tr>\n",
       "    <tr>\n",
       "      <th>75 a 79</th>\n",
       "      <td>269682</td>\n",
       "      <td>265849</td>\n",
       "    </tr>\n",
       "    <tr>\n",
       "      <th>80 o més</th>\n",
       "      <td>426222</td>\n",
       "      <td>422655</td>\n",
       "    </tr>\n",
       "    <tr>\n",
       "      <th>No classificat</th>\n",
       "      <td>32900</td>\n",
       "      <td>18003</td>\n",
       "    </tr>\n",
       "  </tbody>\n",
       "</table>\n",
       "</div>"
      ],
      "text/plain": [
       "                DOSI_U  DOSI_DOS\n",
       "EDAT                            \n",
       "0 a 14            2041      1212\n",
       "15 a 19         171022     43333\n",
       "20 a 24         210261     74639\n",
       "25 a 29         220901     87359\n",
       "30 a 34         266027    150647\n",
       "35 a 39         361092    273558\n",
       "40 a 44         505947    384983\n",
       "45 a 49         546923    456759\n",
       "50 a 54         503853    446475\n",
       "55 a 59         467702    423011\n",
       "60 a 64         412814    360927\n",
       "65 a 69         351443    327717\n",
       "70 a 74         331499    304580\n",
       "75 a 79         269682    265849\n",
       "80 o més        426222    422655\n",
       "No classificat   32900     18003"
      ]
     },
     "execution_count": 10,
     "metadata": {},
     "output_type": "execute_result"
    }
   ],
   "source": [
    "# merge the two dataframe\n",
    "vac_by_age_m = pd.merge(vac_first_dose_by_age, vac_second_dose_by_age, on='EDAT')\n",
    "vac_by_age_m"
   ]
  },
  {
   "cell_type": "code",
   "execution_count": 11,
   "id": "fce51e6c",
   "metadata": {},
   "outputs": [
    {
     "data": {
      "image/png": "[encoded data removed]",
      "text/plain": [
       "<Figure size 1080x504 with 1 Axes>"
      ]
     },
     "metadata": {
      "needs_background": "light"
     },
     "output_type": "display_data"
    }
   ],
   "source": [
    "# plot the df\n",
    "fig, ax = plt.subplots(figsize=(15, 7))\n",
    "\n",
    "labels = vac_by_age_m.index #labels x-axis \n",
    "\n",
    "x = np.arange(len(labels))  # the label locations\n",
    "width = 0.35  # the width of the bars\n",
    "\n",
    "d1 = ax.bar(x - width/2 - 0.04, #bars position\n",
    "            vac_by_age_m.DOSI_U, \n",
    "            width,\n",
    "            label='First dose', \n",
    "            color=\"#00cc66\")\n",
    "\n",
    "d2 = ax.bar(x + width/2, vac_by_age_m.DOSI_DOS, width, label='Second dose')\n",
    "\n",
    "ax.set_xticks(x)\n",
    "ax.set_xticklabels(labels) # custom labels x-axis\n",
    "\n",
    "ax.bar_label(d1, #d1 = bar container\n",
    "             labels= vac_by_age_m.DOSI_U//1000, # // int division\n",
    "             padding=2, fontsize=12)\n",
    "ax.bar_label(d2, labels= vac_by_age_m.DOSI_DOS//1000, padding=2, fontsize=12)\n",
    "\n",
    "ax.get_yaxis().set_major_formatter(\n",
    "matplotlib.ticker.FuncFormatter(lambda x, p: format(int(x), ',')))\n",
    "\n",
    "plt.title(\"Number of vaccines administrated grouped by age\",  fontsize=20)\n",
    "plt.xticks(rotation=45, fontsize=14) # rotation axis tags\n",
    "plt.yticks(fontsize=14)\n",
    "plt.legend(loc='upper left', fontsize=14)\n",
    "\n",
    "plt.show()"
   ]
  },
  {
   "cell_type": "markdown",
   "id": "cc2c5dd1",
   "metadata": {},
   "source": [
    "### 3. Mostra el gràfic anterior mostrant els percentatges de grup utilitzant les [dades de l'1 de gener de 2021 sobre població per edats de l'IDESCAT](https://analisi.transparenciacatalunya.cat/Salut/Vacunaci-per-al-COVID-19-dosis-administrades-per-r/tp23-dey4) ."
   ]
  },
  {
   "cell_type": "code",
   "execution_count": 12,
   "id": "ce37591f",
   "metadata": {
    "scrolled": true
   },
   "outputs": [],
   "source": [
    "pop_by_age = [1157226, 411266, 402872, 434341, 461705, 522779, 643156, 649531, 581232,\n",
    "              521531, 459344, 389980, 352045, 279754, 449998]\n",
    "df_pop = pd.DataFrame(pop_by_age)\n"
   ]
  },
  {
   "cell_type": "code",
   "execution_count": 13,
   "id": "d978d316",
   "metadata": {
    "scrolled": false
   },
   "outputs": [],
   "source": [
    "vac_by_age_m = vac_by_age_m.drop(['No classificat'], axis=0) # remove values non classified\n",
    "vac_by_age_m.index.name = None #remove tag axis\n",
    "vac_by_age_m['POP'] = pop_by_age  # add list as column"
   ]
  },
  {
   "cell_type": "code",
   "execution_count": 14,
   "id": "f40dd829",
   "metadata": {
    "scrolled": true
   },
   "outputs": [],
   "source": [
    "# % first dose\n",
    "vac_by_age_m['XDOSI_U'] =  vac_by_age_m['DOSI_U'] / vac_by_age_m['POP'] * 100\n",
    "# % second dose\n",
    "vac_by_age_m['XDOSI_D'] =  vac_by_age_m['DOSI_DOS'] / vac_by_age_m['POP'] * 100"
   ]
  },
  {
   "cell_type": "code",
   "execution_count": 15,
   "id": "eb85486f",
   "metadata": {
    "scrolled": false
   },
   "outputs": [
    {
     "data": {
      "text/html": [
       "<div>\n",
       "<style scoped>\n",
       "    .dataframe tbody tr th:only-of-type {\n",
       "        vertical-align: middle;\n",
       "    }\n",
       "\n",
       "    .dataframe tbody tr th {\n",
       "        vertical-align: top;\n",
       "    }\n",
       "\n",
       "    .dataframe thead th {\n",
       "        text-align: right;\n",
       "    }\n",
       "</style>\n",
       "<table border=\"1\" class=\"dataframe\">\n",
       "  <thead>\n",
       "    <tr style=\"text-align: right;\">\n",
       "      <th></th>\n",
       "      <th>DOSI_U</th>\n",
       "      <th>DOSI_DOS</th>\n",
       "      <th>POP</th>\n",
       "      <th>XDOSI_U</th>\n",
       "      <th>XDOSI_D</th>\n",
       "    </tr>\n",
       "  </thead>\n",
       "  <tbody>\n",
       "    <tr>\n",
       "      <th>0 a 14</th>\n",
       "      <td>2041</td>\n",
       "      <td>1212</td>\n",
       "      <td>1157226</td>\n",
       "      <td>0.176370</td>\n",
       "      <td>0.104733</td>\n",
       "    </tr>\n",
       "    <tr>\n",
       "      <th>15 a 19</th>\n",
       "      <td>171022</td>\n",
       "      <td>43333</td>\n",
       "      <td>411266</td>\n",
       "      <td>41.584279</td>\n",
       "      <td>10.536490</td>\n",
       "    </tr>\n",
       "    <tr>\n",
       "      <th>20 a 24</th>\n",
       "      <td>210261</td>\n",
       "      <td>74639</td>\n",
       "      <td>402872</td>\n",
       "      <td>52.190522</td>\n",
       "      <td>18.526728</td>\n",
       "    </tr>\n",
       "    <tr>\n",
       "      <th>25 a 29</th>\n",
       "      <td>220901</td>\n",
       "      <td>87359</td>\n",
       "      <td>434341</td>\n",
       "      <td>50.858887</td>\n",
       "      <td>20.112999</td>\n",
       "    </tr>\n",
       "    <tr>\n",
       "      <th>30 a 34</th>\n",
       "      <td>266027</td>\n",
       "      <td>150647</td>\n",
       "      <td>461705</td>\n",
       "      <td>57.618393</td>\n",
       "      <td>32.628410</td>\n",
       "    </tr>\n",
       "    <tr>\n",
       "      <th>35 a 39</th>\n",
       "      <td>361092</td>\n",
       "      <td>273558</td>\n",
       "      <td>522779</td>\n",
       "      <td>69.071634</td>\n",
       "      <td>52.327657</td>\n",
       "    </tr>\n",
       "    <tr>\n",
       "      <th>40 a 44</th>\n",
       "      <td>505947</td>\n",
       "      <td>384983</td>\n",
       "      <td>643156</td>\n",
       "      <td>78.666296</td>\n",
       "      <td>59.858417</td>\n",
       "    </tr>\n",
       "    <tr>\n",
       "      <th>45 a 49</th>\n",
       "      <td>546923</td>\n",
       "      <td>456759</td>\n",
       "      <td>649531</td>\n",
       "      <td>84.202756</td>\n",
       "      <td>70.321355</td>\n",
       "    </tr>\n",
       "    <tr>\n",
       "      <th>50 a 54</th>\n",
       "      <td>503853</td>\n",
       "      <td>446475</td>\n",
       "      <td>581232</td>\n",
       "      <td>86.687072</td>\n",
       "      <td>76.815282</td>\n",
       "    </tr>\n",
       "    <tr>\n",
       "      <th>55 a 59</th>\n",
       "      <td>467702</td>\n",
       "      <td>423011</td>\n",
       "      <td>521531</td>\n",
       "      <td>89.678658</td>\n",
       "      <td>81.109464</td>\n",
       "    </tr>\n",
       "    <tr>\n",
       "      <th>60 a 64</th>\n",
       "      <td>412814</td>\n",
       "      <td>360927</td>\n",
       "      <td>459344</td>\n",
       "      <td>89.870337</td>\n",
       "      <td>78.574445</td>\n",
       "    </tr>\n",
       "    <tr>\n",
       "      <th>65 a 69</th>\n",
       "      <td>351443</td>\n",
       "      <td>327717</td>\n",
       "      <td>389980</td>\n",
       "      <td>90.118211</td>\n",
       "      <td>84.034309</td>\n",
       "    </tr>\n",
       "    <tr>\n",
       "      <th>70 a 74</th>\n",
       "      <td>331499</td>\n",
       "      <td>304580</td>\n",
       "      <td>352045</td>\n",
       "      <td>94.163814</td>\n",
       "      <td>86.517349</td>\n",
       "    </tr>\n",
       "    <tr>\n",
       "      <th>75 a 79</th>\n",
       "      <td>269682</td>\n",
       "      <td>265849</td>\n",
       "      <td>279754</td>\n",
       "      <td>96.399694</td>\n",
       "      <td>95.029562</td>\n",
       "    </tr>\n",
       "    <tr>\n",
       "      <th>80 o més</th>\n",
       "      <td>426222</td>\n",
       "      <td>422655</td>\n",
       "      <td>449998</td>\n",
       "      <td>94.716421</td>\n",
       "      <td>93.923751</td>\n",
       "    </tr>\n",
       "  </tbody>\n",
       "</table>\n",
       "</div>"
      ],
      "text/plain": [
       "          DOSI_U  DOSI_DOS      POP    XDOSI_U    XDOSI_D\n",
       "0 a 14      2041      1212  1157226   0.176370   0.104733\n",
       "15 a 19   171022     43333   411266  41.584279  10.536490\n",
       "20 a 24   210261     74639   402872  52.190522  18.526728\n",
       "25 a 29   220901     87359   434341  50.858887  20.112999\n",
       "30 a 34   266027    150647   461705  57.618393  32.628410\n",
       "35 a 39   361092    273558   522779  69.071634  52.327657\n",
       "40 a 44   505947    384983   643156  78.666296  59.858417\n",
       "45 a 49   546923    456759   649531  84.202756  70.321355\n",
       "50 a 54   503853    446475   581232  86.687072  76.815282\n",
       "55 a 59   467702    423011   521531  89.678658  81.109464\n",
       "60 a 64   412814    360927   459344  89.870337  78.574445\n",
       "65 a 69   351443    327717   389980  90.118211  84.034309\n",
       "70 a 74   331499    304580   352045  94.163814  86.517349\n",
       "75 a 79   269682    265849   279754  96.399694  95.029562\n",
       "80 o més  426222    422655   449998  94.716421  93.923751"
      ]
     },
     "execution_count": 15,
     "metadata": {},
     "output_type": "execute_result"
    }
   ],
   "source": [
    "vac_by_age_m"
   ]
  },
  {
   "cell_type": "code",
   "execution_count": 16,
   "id": "fa20a31b",
   "metadata": {},
   "outputs": [
    {
     "data": {
      "image/png": "[encoded data removed]",
      "text/plain": [
       "<Figure size 1224x504 with 1 Axes>"
      ]
     },
     "metadata": {
      "needs_background": "light"
     },
     "output_type": "display_data"
    }
   ],
   "source": [
    "# plot the df\n",
    "fig, ax = plt.subplots(figsize=(17, 7))\n",
    "\n",
    "labels = vac_by_age_m.index #labels x-axis \n",
    "\n",
    "x = np.arange(len(labels))  # the label locations\n",
    "width = 0.35  # the width of the bars\n",
    "\n",
    "d1 = ax.bar(x - width/2 - 0.04, #bars position\n",
    "            vac_by_age_m.XDOSI_U, \n",
    "            width,\n",
    "            label='First dose', \n",
    "            color=\"#00cc66\")\n",
    "\n",
    "d2 = ax.bar(x + width/2, vac_by_age_m.XDOSI_D, width, label='Second dose')\n",
    "\n",
    "ax.set_xticks(x)\n",
    "ax.set_xticklabels(labels) # custom labels x-axis\n",
    "\n",
    "# bar labels\n",
    "vac_round = vac_by_age_m.round(1)\n",
    "ax.bar_label(d1, labels= vac_round.XDOSI_U, padding=2, fontsize=12)\n",
    "ax.bar_label(d2, labels= vac_round.XDOSI_D, padding=2, fontsize=12)\n",
    "\n",
    "\n",
    "plt.title(\"Percentage of vaccines administrated by group of age\",  fontsize=20)\n",
    "plt.xticks(rotation=45, fontsize=14) # rotation axis tags\n",
    "plt.yticks(fontsize=14)\n",
    "plt.legend(loc='upper left', fontsize=17)\n",
    "\n",
    "plt.show()"
   ]
  },
  {
   "cell_type": "markdown",
   "id": "1d67f1b3",
   "metadata": {},
   "source": [
    "# **4.** Mostra un gràfic amb el número de vacunes administrades segons cada fabricant."
   ]
  },
  {
   "cell_type": "code",
   "execution_count": 17,
   "id": "98723b7e",
   "metadata": {},
   "outputs": [
    {
     "data": {
      "text/html": [
       "<div>\n",
       "<style scoped>\n",
       "    .dataframe tbody tr th:only-of-type {\n",
       "        vertical-align: middle;\n",
       "    }\n",
       "\n",
       "    .dataframe tbody tr th {\n",
       "        vertical-align: top;\n",
       "    }\n",
       "\n",
       "    .dataframe thead th {\n",
       "        text-align: right;\n",
       "    }\n",
       "</style>\n",
       "<table border=\"1\" class=\"dataframe\">\n",
       "  <thead>\n",
       "    <tr style=\"text-align: right;\">\n",
       "      <th></th>\n",
       "      <th>RECOMPTE</th>\n",
       "    </tr>\n",
       "    <tr>\n",
       "      <th>FABRICANT</th>\n",
       "      <th></th>\n",
       "    </tr>\n",
       "  </thead>\n",
       "  <tbody>\n",
       "    <tr>\n",
       "      <th>BioNTech / Pfizer</th>\n",
       "      <td>6212576</td>\n",
       "    </tr>\n",
       "    <tr>\n",
       "      <th>J&amp;J / Janssen</th>\n",
       "      <td>326248</td>\n",
       "    </tr>\n",
       "    <tr>\n",
       "      <th>Moderna / Lonza</th>\n",
       "      <td>963950</td>\n",
       "    </tr>\n",
       "    <tr>\n",
       "      <th>Oxford / AstraZeneca</th>\n",
       "      <td>1619262</td>\n",
       "    </tr>\n",
       "  </tbody>\n",
       "</table>\n",
       "</div>"
      ],
      "text/plain": [
       "                      RECOMPTE\n",
       "FABRICANT                     \n",
       "BioNTech / Pfizer      6212576\n",
       "J&J / Janssen           326248\n",
       "Moderna / Lonza         963950\n",
       "Oxford / AstraZeneca   1619262"
      ]
     },
     "execution_count": 17,
     "metadata": {},
     "output_type": "execute_result"
    }
   ],
   "source": [
    "#group by FABRICANT and sum RECOMPTE\n",
    "vac_by_prod = vac_df.groupby([\"FABRICANT\"])[[\"RECOMPTE\"]].sum()\n",
    "vac_by_prod.head()"
   ]
  },
  {
   "cell_type": "code",
   "execution_count": 18,
   "id": "0d99d123",
   "metadata": {},
   "outputs": [
    {
     "data": {
      "image/png": "[encoded data removed]",
      "text/plain": [
       "<Figure size 720x504 with 1 Axes>"
      ]
     },
     "metadata": {},
     "output_type": "display_data"
    }
   ],
   "source": [
    "explode = (0.01, 0, 0, 0)  # only \"explode\" the data\n",
    "\n",
    "# Creating color parameters\n",
    "colors = ( \"orange\", \"cyan\", \"brown\",\"magenta\")\n",
    "\n",
    "fig1, ax1 = plt.subplots(figsize=(10,7))\n",
    "\n",
    "ax1.pie(vac_by_prod.RECOMPTE, \n",
    "        explode=explode, \n",
    "        labels=vac_by_prod.index,  \n",
    "        autopct='%1.1f%%' ,\n",
    "        shadow=True, \n",
    "        startangle=120,\n",
    "       colors=colors,\n",
    "       textprops = dict(color =\"black\", fontsize=17, family='sans-serif'))\n",
    "\n",
    "ax1.axis('equal')  # Equal aspect ratio ensures that pie is drawn as a circle.\n",
    "\n",
    "plt.title(\"Vacunes administrades segons el fabricant\",  fontsize=24,  y=1.08) # y avoid overlaps\n",
    "plt.xticks(fontsize=14)\n",
    "\n",
    "\n",
    "plt.tight_layout()\n",
    "plt.show()"
   ]
  },
  {
   "cell_type": "markdown",
   "id": "a5eeebd1",
   "metadata": {},
   "source": [
    "## 5. Mostra un gràfic on es superposi la suma dels vacunats amb pauta complta acumulada amb el número de vacunes administrades diàriament.\n"
   ]
  },
  {
   "cell_type": "code",
   "execution_count": 19,
   "id": "97beca1e",
   "metadata": {
    "scrolled": true
   },
   "outputs": [
    {
     "data": {
      "text/html": [
       "<div>\n",
       "<style scoped>\n",
       "    .dataframe tbody tr th:only-of-type {\n",
       "        vertical-align: middle;\n",
       "    }\n",
       "\n",
       "    .dataframe tbody tr th {\n",
       "        vertical-align: top;\n",
       "    }\n",
       "\n",
       "    .dataframe thead th {\n",
       "        text-align: right;\n",
       "    }\n",
       "</style>\n",
       "<table border=\"1\" class=\"dataframe\">\n",
       "  <thead>\n",
       "    <tr style=\"text-align: right;\">\n",
       "      <th></th>\n",
       "      <th>SEXE_CODI</th>\n",
       "      <th>SEXE</th>\n",
       "      <th>REGIO_CODI</th>\n",
       "      <th>REGIO</th>\n",
       "      <th>SECTOR_CODI</th>\n",
       "      <th>SECTOR</th>\n",
       "      <th>AGA_CODI</th>\n",
       "      <th>AGA</th>\n",
       "      <th>ABS_CODI</th>\n",
       "      <th>ABS</th>\n",
       "      <th>EDAT</th>\n",
       "      <th>DOSI</th>\n",
       "      <th>DATA</th>\n",
       "      <th>FABRICANT</th>\n",
       "      <th>NO_VACUNAT</th>\n",
       "      <th>RECOMPTE</th>\n",
       "    </tr>\n",
       "  </thead>\n",
       "  <tbody>\n",
       "    <tr>\n",
       "      <th>0</th>\n",
       "      <td>0.0</td>\n",
       "      <td>Home</td>\n",
       "      <td>7803.0</td>\n",
       "      <td>BARCELONA CIUTAT</td>\n",
       "      <td>7851.0</td>\n",
       "      <td>BARCELONA EIXAMPLE</td>\n",
       "      <td>70.0</td>\n",
       "      <td>Barcelona Dreta</td>\n",
       "      <td>28.0</td>\n",
       "      <td>BARCELONA 2-H</td>\n",
       "      <td>75 a 79</td>\n",
       "      <td>1</td>\n",
       "      <td>2021-03-24</td>\n",
       "      <td>Moderna / Lonza</td>\n",
       "      <td>NaN</td>\n",
       "      <td>2</td>\n",
       "    </tr>\n",
       "    <tr>\n",
       "      <th>1</th>\n",
       "      <td>1.0</td>\n",
       "      <td>Dona</td>\n",
       "      <td>7802.0</td>\n",
       "      <td>METROPOLITANA NORD</td>\n",
       "      <td>7867.0</td>\n",
       "      <td>BARCELONÈS NORD I MARESME</td>\n",
       "      <td>33.0</td>\n",
       "      <td>Maresme Central</td>\n",
       "      <td>154.0</td>\n",
       "      <td>MATARÓ 3</td>\n",
       "      <td>50 a 54</td>\n",
       "      <td>2</td>\n",
       "      <td>2021-04-22</td>\n",
       "      <td>BioNTech / Pfizer</td>\n",
       "      <td>NaN</td>\n",
       "      <td>1</td>\n",
       "    </tr>\n",
       "    <tr>\n",
       "      <th>2</th>\n",
       "      <td>0.0</td>\n",
       "      <td>Home</td>\n",
       "      <td>7803.0</td>\n",
       "      <td>BARCELONA CIUTAT</td>\n",
       "      <td>7851.0</td>\n",
       "      <td>BARCELONA EIXAMPLE</td>\n",
       "      <td>70.0</td>\n",
       "      <td>Barcelona Dreta</td>\n",
       "      <td>31.0</td>\n",
       "      <td>BARCELONA 2-K</td>\n",
       "      <td>60 a 64</td>\n",
       "      <td>1</td>\n",
       "      <td>2021-04-22</td>\n",
       "      <td>Oxford / AstraZeneca</td>\n",
       "      <td>NaN</td>\n",
       "      <td>4</td>\n",
       "    </tr>\n",
       "    <tr>\n",
       "      <th>3</th>\n",
       "      <td>0.0</td>\n",
       "      <td>Home</td>\n",
       "      <td>7801.0</td>\n",
       "      <td>METROPOLITANA SUD</td>\n",
       "      <td>7866.0</td>\n",
       "      <td>BAIX LLOBREGAT CENTRE-LITORAL I L'H</td>\n",
       "      <td>25.0</td>\n",
       "      <td>L'Hospitalet Sud i el Prat de Llobregat</td>\n",
       "      <td>299.0</td>\n",
       "      <td>L'HOSPITALET DE LLOBREGAT 12 (BELLVITGE)</td>\n",
       "      <td>30 a 34</td>\n",
       "      <td>1</td>\n",
       "      <td>2021-07-31</td>\n",
       "      <td>BioNTech / Pfizer</td>\n",
       "      <td>NaN</td>\n",
       "      <td>1</td>\n",
       "    </tr>\n",
       "    <tr>\n",
       "      <th>4</th>\n",
       "      <td>1.0</td>\n",
       "      <td>Dona</td>\n",
       "      <td>7801.0</td>\n",
       "      <td>METROPOLITANA SUD</td>\n",
       "      <td>7831.0</td>\n",
       "      <td>BAIX LLOBREGAT NORD</td>\n",
       "      <td>65.0</td>\n",
       "      <td>Baix Llobregat Nord</td>\n",
       "      <td>360.0</td>\n",
       "      <td>MARTORELL RURAL</td>\n",
       "      <td>55 a 59</td>\n",
       "      <td>2</td>\n",
       "      <td>2021-04-23</td>\n",
       "      <td>Moderna / Lonza</td>\n",
       "      <td>NaN</td>\n",
       "      <td>1</td>\n",
       "    </tr>\n",
       "  </tbody>\n",
       "</table>\n",
       "</div>"
      ],
      "text/plain": [
       "   SEXE_CODI  SEXE  REGIO_CODI               REGIO  SECTOR_CODI  \\\n",
       "0        0.0  Home      7803.0    BARCELONA CIUTAT       7851.0   \n",
       "1        1.0  Dona      7802.0  METROPOLITANA NORD       7867.0   \n",
       "2        0.0  Home      7803.0    BARCELONA CIUTAT       7851.0   \n",
       "3        0.0  Home      7801.0   METROPOLITANA SUD       7866.0   \n",
       "4        1.0  Dona      7801.0   METROPOLITANA SUD       7831.0   \n",
       "\n",
       "                                SECTOR  AGA_CODI  \\\n",
       "0                   BARCELONA EIXAMPLE      70.0   \n",
       "1            BARCELONÈS NORD I MARESME      33.0   \n",
       "2                   BARCELONA EIXAMPLE      70.0   \n",
       "3  BAIX LLOBREGAT CENTRE-LITORAL I L'H      25.0   \n",
       "4                  BAIX LLOBREGAT NORD      65.0   \n",
       "\n",
       "                                       AGA  ABS_CODI  \\\n",
       "0                          Barcelona Dreta      28.0   \n",
       "1                          Maresme Central     154.0   \n",
       "2                          Barcelona Dreta      31.0   \n",
       "3  L'Hospitalet Sud i el Prat de Llobregat     299.0   \n",
       "4                      Baix Llobregat Nord     360.0   \n",
       "\n",
       "                                        ABS     EDAT  DOSI       DATA  \\\n",
       "0                             BARCELONA 2-H  75 a 79     1 2021-03-24   \n",
       "1                                  MATARÓ 3  50 a 54     2 2021-04-22   \n",
       "2                             BARCELONA 2-K  60 a 64     1 2021-04-22   \n",
       "3  L'HOSPITALET DE LLOBREGAT 12 (BELLVITGE)  30 a 34     1 2021-07-31   \n",
       "4                           MARTORELL RURAL  55 a 59     2 2021-04-23   \n",
       "\n",
       "              FABRICANT NO_VACUNAT  RECOMPTE  \n",
       "0       Moderna / Lonza        NaN         2  \n",
       "1     BioNTech / Pfizer        NaN         1  \n",
       "2  Oxford / AstraZeneca        NaN         4  \n",
       "3     BioNTech / Pfizer        NaN         1  \n",
       "4       Moderna / Lonza        NaN         1  "
      ]
     },
     "execution_count": 19,
     "metadata": {},
     "output_type": "execute_result"
    }
   ],
   "source": [
    " vac_df.head()"
   ]
  },
  {
   "cell_type": "code",
   "execution_count": 20,
   "id": "0998a4af",
   "metadata": {},
   "outputs": [],
   "source": [
    "# selection DOSI 1 \n",
    "# Select rows with first dose\n",
    "vac_first_dose = vac_df[vac_df.DOSI == 1]\n",
    "#group by DATA and sum RECOMPTE\n",
    "vac_first_dose_by_date = vac_first_dose.groupby([\"DATA\"])[[\"RECOMPTE\"]].sum()\n",
    "\n",
    "# selection DOSI 2\n",
    "# Select rows with second dose\n",
    "vac_second_dose = vac_df[vac_df.DOSI == 2]\n",
    "#group by DATA and sum RECOMPTE\n",
    "vac_second_dose_by_date = vac_second_dose.groupby([\"DATA\"])[[\"RECOMPTE\"]].sum()"
   ]
  },
  {
   "cell_type": "code",
   "execution_count": 21,
   "id": "07a33417",
   "metadata": {},
   "outputs": [
    {
     "data": {
      "text/html": [
       "<div>\n",
       "<style scoped>\n",
       "    .dataframe tbody tr th:only-of-type {\n",
       "        vertical-align: middle;\n",
       "    }\n",
       "\n",
       "    .dataframe tbody tr th {\n",
       "        vertical-align: top;\n",
       "    }\n",
       "\n",
       "    .dataframe thead th {\n",
       "        text-align: right;\n",
       "    }\n",
       "</style>\n",
       "<table border=\"1\" class=\"dataframe\">\n",
       "  <thead>\n",
       "    <tr style=\"text-align: right;\">\n",
       "      <th></th>\n",
       "      <th>REC_DOS</th>\n",
       "    </tr>\n",
       "    <tr>\n",
       "      <th>DATA</th>\n",
       "      <th></th>\n",
       "    </tr>\n",
       "  </thead>\n",
       "  <tbody>\n",
       "    <tr>\n",
       "      <th>2021-07-27</th>\n",
       "      <td>24477</td>\n",
       "    </tr>\n",
       "    <tr>\n",
       "      <th>2021-07-28</th>\n",
       "      <td>34225</td>\n",
       "    </tr>\n",
       "    <tr>\n",
       "      <th>2021-07-29</th>\n",
       "      <td>35625</td>\n",
       "    </tr>\n",
       "    <tr>\n",
       "      <th>2021-07-30</th>\n",
       "      <td>34271</td>\n",
       "    </tr>\n",
       "    <tr>\n",
       "      <th>2021-07-31</th>\n",
       "      <td>16281</td>\n",
       "    </tr>\n",
       "  </tbody>\n",
       "</table>\n",
       "</div>"
      ],
      "text/plain": [
       "            REC_DOS\n",
       "DATA               \n",
       "2021-07-27    24477\n",
       "2021-07-28    34225\n",
       "2021-07-29    35625\n",
       "2021-07-30    34271\n",
       "2021-07-31    16281"
      ]
     },
     "execution_count": 21,
     "metadata": {},
     "output_type": "execute_result"
    }
   ],
   "source": [
    "# Rename each column - appending “insitu”\n",
    "vac_second_dose_by_date.rename(columns={\"RECOMPTE\": \"REC_DOS\"},\n",
    "                      inplace=True)  # Modify the dataframe columns\n",
    "\n",
    "vac_second_dose_by_date.tail()"
   ]
  },
  {
   "cell_type": "code",
   "execution_count": 22,
   "id": "889e7026",
   "metadata": {},
   "outputs": [],
   "source": [
    "#remove index axis tag\n",
    "vac_first_dose_by_date.index.name = None \n",
    "vac_second_dose_by_date.index.name = None"
   ]
  },
  {
   "cell_type": "code",
   "execution_count": 23,
   "id": "9a6e7a67",
   "metadata": {
    "scrolled": true
   },
   "outputs": [
    {
     "data": {
      "text/html": [
       "<div>\n",
       "<style scoped>\n",
       "    .dataframe tbody tr th:only-of-type {\n",
       "        vertical-align: middle;\n",
       "    }\n",
       "\n",
       "    .dataframe tbody tr th {\n",
       "        vertical-align: top;\n",
       "    }\n",
       "\n",
       "    .dataframe thead th {\n",
       "        text-align: right;\n",
       "    }\n",
       "</style>\n",
       "<table border=\"1\" class=\"dataframe\">\n",
       "  <thead>\n",
       "    <tr style=\"text-align: right;\">\n",
       "      <th></th>\n",
       "      <th>RECOMPTE</th>\n",
       "    </tr>\n",
       "  </thead>\n",
       "  <tbody>\n",
       "    <tr>\n",
       "      <th>2021-07-27</th>\n",
       "      <td>38841</td>\n",
       "    </tr>\n",
       "    <tr>\n",
       "      <th>2021-07-28</th>\n",
       "      <td>37326</td>\n",
       "    </tr>\n",
       "    <tr>\n",
       "      <th>2021-07-29</th>\n",
       "      <td>32013</td>\n",
       "    </tr>\n",
       "    <tr>\n",
       "      <th>2021-07-30</th>\n",
       "      <td>32825</td>\n",
       "    </tr>\n",
       "    <tr>\n",
       "      <th>2021-07-31</th>\n",
       "      <td>7907</td>\n",
       "    </tr>\n",
       "  </tbody>\n",
       "</table>\n",
       "</div>"
      ],
      "text/plain": [
       "            RECOMPTE\n",
       "2021-07-27     38841\n",
       "2021-07-28     37326\n",
       "2021-07-29     32013\n",
       "2021-07-30     32825\n",
       "2021-07-31      7907"
      ]
     },
     "execution_count": 23,
     "metadata": {},
     "output_type": "execute_result"
    }
   ],
   "source": [
    "vac_first_dose_by_date.tail()"
   ]
  },
  {
   "cell_type": "code",
   "execution_count": 24,
   "id": "4a092a71",
   "metadata": {},
   "outputs": [
    {
     "data": {
      "text/html": [
       "<div>\n",
       "<style scoped>\n",
       "    .dataframe tbody tr th:only-of-type {\n",
       "        vertical-align: middle;\n",
       "    }\n",
       "\n",
       "    .dataframe tbody tr th {\n",
       "        vertical-align: top;\n",
       "    }\n",
       "\n",
       "    .dataframe thead th {\n",
       "        text-align: right;\n",
       "    }\n",
       "</style>\n",
       "<table border=\"1\" class=\"dataframe\">\n",
       "  <thead>\n",
       "    <tr style=\"text-align: right;\">\n",
       "      <th></th>\n",
       "      <th>RECOMPTE</th>\n",
       "      <th>REC_DOS</th>\n",
       "    </tr>\n",
       "  </thead>\n",
       "  <tbody>\n",
       "    <tr>\n",
       "      <th>2020-12-27</th>\n",
       "      <td>805</td>\n",
       "      <td>NaN</td>\n",
       "    </tr>\n",
       "    <tr>\n",
       "      <th>2020-12-28</th>\n",
       "      <td>3</td>\n",
       "      <td>NaN</td>\n",
       "    </tr>\n",
       "    <tr>\n",
       "      <th>2020-12-29</th>\n",
       "      <td>451</td>\n",
       "      <td>NaN</td>\n",
       "    </tr>\n",
       "    <tr>\n",
       "      <th>2020-12-30</th>\n",
       "      <td>2609</td>\n",
       "      <td>NaN</td>\n",
       "    </tr>\n",
       "    <tr>\n",
       "      <th>2020-12-31</th>\n",
       "      <td>2586</td>\n",
       "      <td>NaN</td>\n",
       "    </tr>\n",
       "    <tr>\n",
       "      <th>...</th>\n",
       "      <td>...</td>\n",
       "      <td>...</td>\n",
       "    </tr>\n",
       "    <tr>\n",
       "      <th>2021-07-27</th>\n",
       "      <td>38841</td>\n",
       "      <td>24477.0</td>\n",
       "    </tr>\n",
       "    <tr>\n",
       "      <th>2021-07-28</th>\n",
       "      <td>37326</td>\n",
       "      <td>34225.0</td>\n",
       "    </tr>\n",
       "    <tr>\n",
       "      <th>2021-07-29</th>\n",
       "      <td>32013</td>\n",
       "      <td>35625.0</td>\n",
       "    </tr>\n",
       "    <tr>\n",
       "      <th>2021-07-30</th>\n",
       "      <td>32825</td>\n",
       "      <td>34271.0</td>\n",
       "    </tr>\n",
       "    <tr>\n",
       "      <th>2021-07-31</th>\n",
       "      <td>7907</td>\n",
       "      <td>16281.0</td>\n",
       "    </tr>\n",
       "  </tbody>\n",
       "</table>\n",
       "<p>217 rows × 2 columns</p>\n",
       "</div>"
      ],
      "text/plain": [
       "            RECOMPTE  REC_DOS\n",
       "2020-12-27       805      NaN\n",
       "2020-12-28         3      NaN\n",
       "2020-12-29       451      NaN\n",
       "2020-12-30      2609      NaN\n",
       "2020-12-31      2586      NaN\n",
       "...              ...      ...\n",
       "2021-07-27     38841  24477.0\n",
       "2021-07-28     37326  34225.0\n",
       "2021-07-29     32013  35625.0\n",
       "2021-07-30     32825  34271.0\n",
       "2021-07-31      7907  16281.0\n",
       "\n",
       "[217 rows x 2 columns]"
      ]
     },
     "execution_count": 24,
     "metadata": {},
     "output_type": "execute_result"
    }
   ],
   "source": [
    "# Joining on index \n",
    "df_vac_app =vac_first_dose_by_date.join(vac_second_dose_by_date, how=\"outer\")\n",
    "df_vac_app"
   ]
  },
  {
   "cell_type": "code",
   "execution_count": 25,
   "id": "ea419773",
   "metadata": {},
   "outputs": [],
   "source": [
    "df_vac_app = df_vac_app.fillna(0) # fill the null values as 0"
   ]
  },
  {
   "cell_type": "code",
   "execution_count": 26,
   "id": "405133a2",
   "metadata": {},
   "outputs": [],
   "source": [
    "# cummulative sum second dose\n",
    "vac_second_dose_by_date[\"cumsum2\"] = vac_second_dose_by_date['REC_DOS'].cumsum()\n",
    "\n",
    "# cummulative sum second dose\n",
    "vac_first_dose_by_date[\"cumsum\"] = vac_first_dose_by_date['RECOMPTE'].cumsum()"
   ]
  },
  {
   "cell_type": "code",
   "execution_count": 27,
   "id": "d90b53be",
   "metadata": {},
   "outputs": [
    {
     "data": {
      "text/html": [
       "<div>\n",
       "<style scoped>\n",
       "    .dataframe tbody tr th:only-of-type {\n",
       "        vertical-align: middle;\n",
       "    }\n",
       "\n",
       "    .dataframe tbody tr th {\n",
       "        vertical-align: top;\n",
       "    }\n",
       "\n",
       "    .dataframe thead th {\n",
       "        text-align: right;\n",
       "    }\n",
       "</style>\n",
       "<table border=\"1\" class=\"dataframe\">\n",
       "  <thead>\n",
       "    <tr style=\"text-align: right;\">\n",
       "      <th></th>\n",
       "      <th>RECOMPTE</th>\n",
       "      <th>REC_DOS</th>\n",
       "    </tr>\n",
       "  </thead>\n",
       "  <tbody>\n",
       "    <tr>\n",
       "      <th>2020-12-27</th>\n",
       "      <td>805</td>\n",
       "      <td>0.0</td>\n",
       "    </tr>\n",
       "    <tr>\n",
       "      <th>2020-12-28</th>\n",
       "      <td>3</td>\n",
       "      <td>0.0</td>\n",
       "    </tr>\n",
       "    <tr>\n",
       "      <th>2020-12-29</th>\n",
       "      <td>451</td>\n",
       "      <td>0.0</td>\n",
       "    </tr>\n",
       "    <tr>\n",
       "      <th>2020-12-30</th>\n",
       "      <td>2609</td>\n",
       "      <td>0.0</td>\n",
       "    </tr>\n",
       "    <tr>\n",
       "      <th>2020-12-31</th>\n",
       "      <td>2586</td>\n",
       "      <td>0.0</td>\n",
       "    </tr>\n",
       "    <tr>\n",
       "      <th>...</th>\n",
       "      <td>...</td>\n",
       "      <td>...</td>\n",
       "    </tr>\n",
       "    <tr>\n",
       "      <th>2021-07-27</th>\n",
       "      <td>38841</td>\n",
       "      <td>24477.0</td>\n",
       "    </tr>\n",
       "    <tr>\n",
       "      <th>2021-07-28</th>\n",
       "      <td>37326</td>\n",
       "      <td>34225.0</td>\n",
       "    </tr>\n",
       "    <tr>\n",
       "      <th>2021-07-29</th>\n",
       "      <td>32013</td>\n",
       "      <td>35625.0</td>\n",
       "    </tr>\n",
       "    <tr>\n",
       "      <th>2021-07-30</th>\n",
       "      <td>32825</td>\n",
       "      <td>34271.0</td>\n",
       "    </tr>\n",
       "    <tr>\n",
       "      <th>2021-07-31</th>\n",
       "      <td>7907</td>\n",
       "      <td>16281.0</td>\n",
       "    </tr>\n",
       "  </tbody>\n",
       "</table>\n",
       "<p>217 rows × 2 columns</p>\n",
       "</div>"
      ],
      "text/plain": [
       "            RECOMPTE  REC_DOS\n",
       "2020-12-27       805      0.0\n",
       "2020-12-28         3      0.0\n",
       "2020-12-29       451      0.0\n",
       "2020-12-30      2609      0.0\n",
       "2020-12-31      2586      0.0\n",
       "...              ...      ...\n",
       "2021-07-27     38841  24477.0\n",
       "2021-07-28     37326  34225.0\n",
       "2021-07-29     32013  35625.0\n",
       "2021-07-30     32825  34271.0\n",
       "2021-07-31      7907  16281.0\n",
       "\n",
       "[217 rows x 2 columns]"
      ]
     },
     "execution_count": 27,
     "metadata": {},
     "output_type": "execute_result"
    }
   ],
   "source": [
    "df_vac_app"
   ]
  },
  {
   "cell_type": "code",
   "execution_count": 28,
   "id": "6c67f9fd",
   "metadata": {},
   "outputs": [
    {
     "data": {
      "text/plain": [
       "<matplotlib.legend.Legend at 0x1cc4e78f820>"
      ]
     },
     "execution_count": 28,
     "metadata": {},
     "output_type": "execute_result"
    },
    {
     "data": {
      "image/png": "[encoded data removed]",
      "text/plain": [
       "<Figure size 792x504 with 1 Axes>"
      ]
     },
     "metadata": {
      "needs_background": "light"
     },
     "output_type": "display_data"
    }
   ],
   "source": [
    "# Plot your data\n",
    "fig, ax = plt.subplots(figsize=(11,7))\n",
    "\n",
    "width_col = 0.6\n",
    "labels = df_vac_app.index\n",
    "    \n",
    "ax.bar(labels, df_vac_app.RECOMPTE, width_col, label='Primera dosi', color='#009933') # first dose\n",
    "ax.bar(labels, df_vac_app.REC_DOS, width_col, \n",
    "       bottom=df_vac_app[\"RECOMPTE\"],\n",
    "       label='Segona dosi', \n",
    "     color='#0000cc')\n",
    "\n",
    "\n",
    "ax.set_ylabel('Númro de vacunes administrades diàriament')\n",
    "ax.set_title('Scores by group and gender')\n",
    "ax.legend()"
   ]
  },
  {
   "cell_type": "code",
   "execution_count": 29,
   "id": "324028b0",
   "metadata": {
    "scrolled": true
   },
   "outputs": [
    {
     "data": {
      "text/plain": [
       "Text(0, 0.5, 'Número de persones vacunades \\n amb dos dosis')"
      ]
     },
     "execution_count": 29,
     "metadata": {},
     "output_type": "execute_result"
    },
    {
     "data": {
      "image/png": "[encoded data removed]",
      "text/plain": [
       "<Figure size 792x504 with 1 Axes>"
      ]
     },
     "metadata": {
      "needs_background": "light"
     },
     "output_type": "display_data"
    }
   ],
   "source": [
    "# Plot your data\n",
    "fig, ax = plt.subplots(figsize=(11,7))\n",
    "vac_second_dose_by_date[\"cumsum2\"].plot(ax=ax, label = \"Cumulative Completed Vaccination\")\n",
    "\n",
    "# Make the y-axis label, ticks and tick labels match the line color.\n",
    "ax.set_ylabel('Número de persones vacunades \\n amb dos dosis', fontsize=18,  color='b')\n",
    "\n",
    "\n",
    "\n",
    "# Turn off scientific notation\n",
    "#ax.ticklabel_format(style='plain')"
   ]
  },
  {
   "cell_type": "code",
   "execution_count": null,
   "id": "33aed460",
   "metadata": {},
   "outputs": [],
   "source": []
  }
 ],
 "metadata": {
  "kernelspec": {
   "display_name": "Python 3",
   "language": "python",
   "name": "python3"
  },
  "language_info": {
   "codemirror_mode": {
    "name": "ipython",
    "version": 3
   },
   "file_extension": ".py",
   "mimetype": "text/x-python",
   "name": "python",
   "nbconvert_exporter": "python",
   "pygments_lexer": "ipython3",
   "version": "3.9.4"
  }
 },
 "nbformat": 4,
 "nbformat_minor": 5
}
